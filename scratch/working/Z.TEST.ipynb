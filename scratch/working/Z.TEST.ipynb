{
 "cells": [
  {
   "cell_type": "markdown",
   "id": "direct-financing",
   "metadata": {},
   "source": [
    "## S3 데이터 삭제"
   ]
  },
  {
   "cell_type": "code",
   "execution_count": 24,
   "id": "burning-mixture",
   "metadata": {},
   "outputs": [
    {
     "name": "stdout",
     "output_type": "stream",
     "text": [
      "                           PRE cifar10-output/\n"
     ]
    }
   ],
   "source": [
    "!aws s3 ls gonsoo-share/"
   ]
  },
  {
   "cell_type": "code",
   "execution_count": 23,
   "id": "respiratory-cargo",
   "metadata": {},
   "outputs": [
    {
     "name": "stdout",
     "output_type": "stream",
     "text": [
      "delete: s3://gonsoo-share/cifar10-output/byoc-cifar10-2021-02-27-03-23-30-059/profiler-output/system/incremental/2021022703/1614396300.algo-1.json\n",
      "delete: s3://gonsoo-share/cifar10-output/byoc-cifar10-2021-02-27-03-23-30-059/rule-output/ProfilerReport-1614396210/profiler-output/profiler-report.html\n",
      "delete: s3://gonsoo-share/cifar10-output/byoc-cifar10-2021-02-27-03-23-30-059/rule-output/ProfilerReport-1614396210/profiler-output/profiler-reports/Dataloader.json\n",
      "delete: s3://gonsoo-share/cifar10-output/byoc-cifar10-2021-02-27-03-23-30-059/rule-output/ProfilerReport-1614396210/profiler-output/profiler-report.ipynb\n",
      "delete: s3://gonsoo-share/cifar10-output/byoc-cifar10-2021-02-27-03-23-30-059/rule-output/ProfilerReport-1614396210/profiler-output/profiler-reports/GPUMemoryIncrease.json\n",
      "delete: s3://gonsoo-share/cifar10-output/byoc-cifar10-2021-02-27-03-23-30-059/rule-output/ProfilerReport-1614396210/profiler-output/profiler-reports/CPUBottleneck.json\n",
      "delete: s3://gonsoo-share/cifar10-output/byoc-cifar10-2021-02-27-03-23-30-059/profiler-output/system/incremental/2021022703/1614396360.algo-1.json\n",
      "delete: s3://gonsoo-share/cifar10-output/byoc-cifar10-2021-02-27-03-23-30-059/rule-output/ProfilerReport-1614396210/profiler-output/profiler-reports/BatchSize.json\n",
      "delete: s3://gonsoo-share/cifar10-output/byoc-cifar10-2021-02-27-03-23-30-059/rule-output/ProfilerReport-1614396210/profiler-output/profiler-reports/IOBottleneck.json\n",
      "delete: s3://gonsoo-share/cifar10-output/byoc-cifar10-2021-02-27-03-23-30-059/rule-output/ProfilerReport-1614396210/profiler-output/profiler-reports/LowGPUUtilization.json\n",
      "delete: s3://gonsoo-share/cifar10-output/byoc-cifar10-2021-02-27-03-23-30-059/rule-output/ProfilerReport-1614396210/profiler-output/profiler-reports/MaxInitializationTime.json\n",
      "delete: s3://gonsoo-share/cifar10-output/byoc-cifar10-2021-02-27-03-23-30-059/rule-output/ProfilerReport-1614396210/profiler-output/profiler-reports/OverallFrameworkMetrics.json\n",
      "delete: s3://gonsoo-share/cifar10-output/byoc-cifar10-2021-02-27-03-23-30-059/rule-output/ProfilerReport-1614396210/profiler-output/profiler-reports/OverallSystemUsage.json\n",
      "delete: s3://gonsoo-share/cifar10-output/byoc-cifar10-2021-02-27-03-23-30-059/rule-output/ProfilerReport-1614396210/profiler-output/profiler-reports/StepOutlier.json\n",
      "delete: s3://gonsoo-share/cifar10-output/byoc-cifar10-2021-02-27-03-23-30-059/rule-output/ProfilerReport-1614396210/profiler-output/profiler-reports/LoadBalancing.json\n"
     ]
    }
   ],
   "source": [
    "!aws s3 rm s3://gonsoo-share/ --recursive"
   ]
  },
  {
   "cell_type": "markdown",
   "id": "orange-trunk",
   "metadata": {},
   "source": [
    "## model_dir 확인"
   ]
  },
  {
   "cell_type": "code",
   "execution_count": 1,
   "id": "exotic-lincoln",
   "metadata": {},
   "outputs": [],
   "source": [
    "import tensorflow as tf"
   ]
  },
  {
   "cell_type": "code",
   "execution_count": 4,
   "id": "bizarre-harmony",
   "metadata": {},
   "outputs": [
    {
     "name": "stdout",
     "output_type": "stream",
     "text": [
      "2021-02-27 02:22:31.027957: I tensorflow/core/platform/cpu_feature_guard.cc:142] Your CPU supports instructions that this TensorFlow binary was not compiled to use: AVX512F\n",
      "2021-02-27 02:22:31.052832: I tensorflow/core/platform/profile_utils/cpu_utils.cc:94] CPU Frequency: 3000000000 Hz\n",
      "2021-02-27 02:22:31.054517: I tensorflow/compiler/xla/service/service.cc:168] XLA service 0x55de23cb7690 initialized for platform Host (this does not guarantee that XLA will be used). Devices:\n",
      "2021-02-27 02:22:31.054536: I tensorflow/compiler/xla/service/service.cc:176]   StreamExecutor device (0): Host, Default Version\n",
      "2021-02-27 02:22:31.054670: I tensorflow/core/common_runtime/process_util.cc:147] Creating new thread pool with default inter op setting: 2. Tune using inter_op_parallelism_threads for best performance.\n",
      "args.model_dir:  ./logs\n",
      "Train for 312 steps, validate for 78 steps\n",
      "312/312 [==============================] - 29s 92ms/step - loss: 1.8570 - accuracy: 0.3176 - val_loss: 1.6851 - val_accuracy: 0.3654\n",
      "2021-02-27 02:23:03.326164: W tensorflow/python/util/util.cc:319] Sets are not currently considered sequences, but this may change in the future, so consider avoiding using them.\n",
      "WARNING:tensorflow:From /home/ec2-user/anaconda3/envs/tensorflow2_p36/lib/python3.6/site-packages/tensorflow_core/python/ops/resource_variable_ops.py:1786: calling BaseResourceVariable.__init__ (from tensorflow.python.ops.resource_variable_ops) with constraint is deprecated and will be removed in a future version.\n",
      "Instructions for updating:\n",
      "If using Keras pass *_constraint arguments to layers.\n",
      "WARNING:tensorflow:From /home/ec2-user/anaconda3/envs/tensorflow2_p36/lib/python3.6/site-packages/tensorflow_core/python/ops/resource_variable_ops.py:1786: calling BaseResourceVariable.__init__ (from tensorflow.python.ops.resource_variable_ops) with constraint is deprecated and will be removed in a future version.\n",
      "Instructions for updating:\n",
      "If using Keras pass *_constraint arguments to layers.\n",
      "INFO:tensorflow:Assets written to: ./logs/1/assets\n",
      "INFO:tensorflow:Assets written to: ./logs/1/assets\n",
      "CPU times: user 604 ms, sys: 168 ms, total: 771 ms\n",
      "Wall time: 35.8 s\n"
     ]
    }
   ],
   "source": [
    "%%time\n",
    "!mkdir -p logs\n",
    "!python training_script/cifar10_keras_tf2.py --model_dir ./logs \\\n",
    "                                         --train data/train \\\n",
    "                                         --validation data/validation \\\n",
    "                                         --eval data/eval \\\n",
    "                                         --epochs 1\n",
    "!rm -rf logs"
   ]
  },
  {
   "cell_type": "code",
   "execution_count": 5,
   "id": "impossible-reasoning",
   "metadata": {},
   "outputs": [],
   "source": [
    "import os\n",
    "import sagemaker\n",
    "from sagemaker import get_execution_role\n",
    "\n",
    "sagemaker_session = sagemaker.Session()\n",
    "\n",
    "role = get_execution_role()"
   ]
  },
  {
   "cell_type": "code",
   "execution_count": 6,
   "id": "photographic-opportunity",
   "metadata": {},
   "outputs": [
    {
     "name": "stderr",
     "output_type": "stream",
     "text": [
      "train_instance_type has been renamed in sagemaker>=2.\n",
      "See: https://sagemaker.readthedocs.io/en/stable/v2.html for details.\n",
      "train_instance_count has been renamed in sagemaker>=2.\n",
      "See: https://sagemaker.readthedocs.io/en/stable/v2.html for details.\n",
      "train_instance_type has been renamed in sagemaker>=2.\n",
      "See: https://sagemaker.readthedocs.io/en/stable/v2.html for details.\n"
     ]
    },
    {
     "name": "stdout",
     "output_type": "stream",
     "text": [
      "Building with native build. Learn about native build in Compose here: https://docs.docker.com/go/compose-native-build/\n",
      "Creating bbkpzwozlg-algo-1-sjd53 ... \n",
      "Creating bbkpzwozlg-algo-1-sjd53 ... done\n",
      "Attaching to bbkpzwozlg-algo-1-sjd53\n",
      "\u001b[36mbbkpzwozlg-algo-1-sjd53 |\u001b[0m 2021-02-27 02:28:36,852 sagemaker-containers INFO     Imported framework sagemaker_tensorflow_container.training\n",
      "\u001b[36mbbkpzwozlg-algo-1-sjd53 |\u001b[0m 2021-02-27 02:28:36,859 sagemaker-containers INFO     No GPUs detected (normal if no gpus installed)\n",
      "\u001b[36mbbkpzwozlg-algo-1-sjd53 |\u001b[0m 2021-02-27 02:28:37,050 sagemaker-containers INFO     No GPUs detected (normal if no gpus installed)\n",
      "\u001b[36mbbkpzwozlg-algo-1-sjd53 |\u001b[0m 2021-02-27 02:28:37,063 sagemaker-containers INFO     No GPUs detected (normal if no gpus installed)\n",
      "\u001b[36mbbkpzwozlg-algo-1-sjd53 |\u001b[0m 2021-02-27 02:28:37,076 sagemaker-containers INFO     No GPUs detected (normal if no gpus installed)\n",
      "\u001b[36mbbkpzwozlg-algo-1-sjd53 |\u001b[0m 2021-02-27 02:28:37,084 sagemaker-containers INFO     Invoking user script\n",
      "\u001b[36mbbkpzwozlg-algo-1-sjd53 |\u001b[0m \n",
      "\u001b[36mbbkpzwozlg-algo-1-sjd53 |\u001b[0m Training Env:\n",
      "\u001b[36mbbkpzwozlg-algo-1-sjd53 |\u001b[0m \n",
      "\u001b[36mbbkpzwozlg-algo-1-sjd53 |\u001b[0m {\n",
      "\u001b[36mbbkpzwozlg-algo-1-sjd53 |\u001b[0m     \"additional_framework_parameters\": {},\n",
      "\u001b[36mbbkpzwozlg-algo-1-sjd53 |\u001b[0m     \"channel_input_dirs\": {\n",
      "\u001b[36mbbkpzwozlg-algo-1-sjd53 |\u001b[0m         \"train\": \"/opt/ml/input/data/train\",\n",
      "\u001b[36mbbkpzwozlg-algo-1-sjd53 |\u001b[0m         \"validation\": \"/opt/ml/input/data/validation\",\n",
      "\u001b[36mbbkpzwozlg-algo-1-sjd53 |\u001b[0m         \"eval\": \"/opt/ml/input/data/eval\"\n",
      "\u001b[36mbbkpzwozlg-algo-1-sjd53 |\u001b[0m     },\n",
      "\u001b[36mbbkpzwozlg-algo-1-sjd53 |\u001b[0m     \"current_host\": \"algo-1-sjd53\",\n",
      "\u001b[36mbbkpzwozlg-algo-1-sjd53 |\u001b[0m     \"framework_module\": \"sagemaker_tensorflow_container.training:main\",\n",
      "\u001b[36mbbkpzwozlg-algo-1-sjd53 |\u001b[0m     \"hosts\": [\n",
      "\u001b[36mbbkpzwozlg-algo-1-sjd53 |\u001b[0m         \"algo-1-sjd53\"\n",
      "\u001b[36mbbkpzwozlg-algo-1-sjd53 |\u001b[0m     ],\n",
      "\u001b[36mbbkpzwozlg-algo-1-sjd53 |\u001b[0m     \"hyperparameters\": {\n",
      "\u001b[36mbbkpzwozlg-algo-1-sjd53 |\u001b[0m         \"epochs\": 1,\n",
      "\u001b[36mbbkpzwozlg-algo-1-sjd53 |\u001b[0m         \"model_dir\": \"s3://sagemaker-ap-northeast-2-057716757052/cifar10-2021-02-27-02-28-33-646/model\"\n",
      "\u001b[36mbbkpzwozlg-algo-1-sjd53 |\u001b[0m     },\n",
      "\u001b[36mbbkpzwozlg-algo-1-sjd53 |\u001b[0m     \"input_config_dir\": \"/opt/ml/input/config\",\n",
      "\u001b[36mbbkpzwozlg-algo-1-sjd53 |\u001b[0m     \"input_data_config\": {\n",
      "\u001b[36mbbkpzwozlg-algo-1-sjd53 |\u001b[0m         \"train\": {\n",
      "\u001b[36mbbkpzwozlg-algo-1-sjd53 |\u001b[0m             \"TrainingInputMode\": \"File\"\n",
      "\u001b[36mbbkpzwozlg-algo-1-sjd53 |\u001b[0m         },\n",
      "\u001b[36mbbkpzwozlg-algo-1-sjd53 |\u001b[0m         \"validation\": {\n",
      "\u001b[36mbbkpzwozlg-algo-1-sjd53 |\u001b[0m             \"TrainingInputMode\": \"File\"\n",
      "\u001b[36mbbkpzwozlg-algo-1-sjd53 |\u001b[0m         },\n",
      "\u001b[36mbbkpzwozlg-algo-1-sjd53 |\u001b[0m         \"eval\": {\n",
      "\u001b[36mbbkpzwozlg-algo-1-sjd53 |\u001b[0m             \"TrainingInputMode\": \"File\"\n",
      "\u001b[36mbbkpzwozlg-algo-1-sjd53 |\u001b[0m         }\n",
      "\u001b[36mbbkpzwozlg-algo-1-sjd53 |\u001b[0m     },\n",
      "\u001b[36mbbkpzwozlg-algo-1-sjd53 |\u001b[0m     \"input_dir\": \"/opt/ml/input\",\n",
      "\u001b[36mbbkpzwozlg-algo-1-sjd53 |\u001b[0m     \"is_master\": true,\n",
      "\u001b[36mbbkpzwozlg-algo-1-sjd53 |\u001b[0m     \"job_name\": \"cifar10-2021-02-27-02-28-33-646\",\n",
      "\u001b[36mbbkpzwozlg-algo-1-sjd53 |\u001b[0m     \"log_level\": 20,\n",
      "\u001b[36mbbkpzwozlg-algo-1-sjd53 |\u001b[0m     \"master_hostname\": \"algo-1-sjd53\",\n",
      "\u001b[36mbbkpzwozlg-algo-1-sjd53 |\u001b[0m     \"model_dir\": \"/opt/ml/model\",\n",
      "\u001b[36mbbkpzwozlg-algo-1-sjd53 |\u001b[0m     \"module_dir\": \"s3://sagemaker-ap-northeast-2-057716757052/cifar10-2021-02-27-02-28-33-646/source/sourcedir.tar.gz\",\n",
      "\u001b[36mbbkpzwozlg-algo-1-sjd53 |\u001b[0m     \"module_name\": \"cifar10_keras_sm_tf2\",\n",
      "\u001b[36mbbkpzwozlg-algo-1-sjd53 |\u001b[0m     \"network_interface_name\": \"eth0\",\n",
      "\u001b[36mbbkpzwozlg-algo-1-sjd53 |\u001b[0m     \"num_cpus\": 36,\n",
      "\u001b[36mbbkpzwozlg-algo-1-sjd53 |\u001b[0m     \"num_gpus\": 0,\n",
      "\u001b[36mbbkpzwozlg-algo-1-sjd53 |\u001b[0m     \"output_data_dir\": \"/opt/ml/output/data\",\n",
      "\u001b[36mbbkpzwozlg-algo-1-sjd53 |\u001b[0m     \"output_dir\": \"/opt/ml/output\",\n",
      "\u001b[36mbbkpzwozlg-algo-1-sjd53 |\u001b[0m     \"output_intermediate_dir\": \"/opt/ml/output/intermediate\",\n",
      "\u001b[36mbbkpzwozlg-algo-1-sjd53 |\u001b[0m     \"resource_config\": {\n",
      "\u001b[36mbbkpzwozlg-algo-1-sjd53 |\u001b[0m         \"current_host\": \"algo-1-sjd53\",\n",
      "\u001b[36mbbkpzwozlg-algo-1-sjd53 |\u001b[0m         \"hosts\": [\n",
      "\u001b[36mbbkpzwozlg-algo-1-sjd53 |\u001b[0m             \"algo-1-sjd53\"\n",
      "\u001b[36mbbkpzwozlg-algo-1-sjd53 |\u001b[0m         ]\n",
      "\u001b[36mbbkpzwozlg-algo-1-sjd53 |\u001b[0m     },\n",
      "\u001b[36mbbkpzwozlg-algo-1-sjd53 |\u001b[0m     \"user_entry_point\": \"cifar10_keras_sm_tf2.py\"\n",
      "\u001b[36mbbkpzwozlg-algo-1-sjd53 |\u001b[0m }\n",
      "\u001b[36mbbkpzwozlg-algo-1-sjd53 |\u001b[0m \n",
      "\u001b[36mbbkpzwozlg-algo-1-sjd53 |\u001b[0m Environment variables:\n",
      "\u001b[36mbbkpzwozlg-algo-1-sjd53 |\u001b[0m \n",
      "\u001b[36mbbkpzwozlg-algo-1-sjd53 |\u001b[0m SM_HOSTS=[\"algo-1-sjd53\"]\n",
      "\u001b[36mbbkpzwozlg-algo-1-sjd53 |\u001b[0m SM_NETWORK_INTERFACE_NAME=eth0\n",
      "\u001b[36mbbkpzwozlg-algo-1-sjd53 |\u001b[0m SM_HPS={\"epochs\":1,\"model_dir\":\"s3://sagemaker-ap-northeast-2-057716757052/cifar10-2021-02-27-02-28-33-646/model\"}\n",
      "\u001b[36mbbkpzwozlg-algo-1-sjd53 |\u001b[0m SM_USER_ENTRY_POINT=cifar10_keras_sm_tf2.py\n",
      "\u001b[36mbbkpzwozlg-algo-1-sjd53 |\u001b[0m SM_FRAMEWORK_PARAMS={}\n",
      "\u001b[36mbbkpzwozlg-algo-1-sjd53 |\u001b[0m SM_RESOURCE_CONFIG={\"current_host\":\"algo-1-sjd53\",\"hosts\":[\"algo-1-sjd53\"]}\n",
      "\u001b[36mbbkpzwozlg-algo-1-sjd53 |\u001b[0m SM_INPUT_DATA_CONFIG={\"eval\":{\"TrainingInputMode\":\"File\"},\"train\":{\"TrainingInputMode\":\"File\"},\"validation\":{\"TrainingInputMode\":\"File\"}}\n",
      "\u001b[36mbbkpzwozlg-algo-1-sjd53 |\u001b[0m SM_OUTPUT_DATA_DIR=/opt/ml/output/data\n",
      "\u001b[36mbbkpzwozlg-algo-1-sjd53 |\u001b[0m SM_CHANNELS=[\"eval\",\"train\",\"validation\"]\n",
      "\u001b[36mbbkpzwozlg-algo-1-sjd53 |\u001b[0m SM_CURRENT_HOST=algo-1-sjd53\n",
      "\u001b[36mbbkpzwozlg-algo-1-sjd53 |\u001b[0m SM_MODULE_NAME=cifar10_keras_sm_tf2\n",
      "\u001b[36mbbkpzwozlg-algo-1-sjd53 |\u001b[0m SM_LOG_LEVEL=20\n",
      "\u001b[36mbbkpzwozlg-algo-1-sjd53 |\u001b[0m SM_FRAMEWORK_MODULE=sagemaker_tensorflow_container.training:main\n",
      "\u001b[36mbbkpzwozlg-algo-1-sjd53 |\u001b[0m SM_INPUT_DIR=/opt/ml/input\n",
      "\u001b[36mbbkpzwozlg-algo-1-sjd53 |\u001b[0m SM_INPUT_CONFIG_DIR=/opt/ml/input/config\n",
      "\u001b[36mbbkpzwozlg-algo-1-sjd53 |\u001b[0m SM_OUTPUT_DIR=/opt/ml/output\n",
      "\u001b[36mbbkpzwozlg-algo-1-sjd53 |\u001b[0m SM_NUM_CPUS=36\n",
      "\u001b[36mbbkpzwozlg-algo-1-sjd53 |\u001b[0m SM_NUM_GPUS=0\n",
      "\u001b[36mbbkpzwozlg-algo-1-sjd53 |\u001b[0m SM_MODEL_DIR=/opt/ml/model\n",
      "\u001b[36mbbkpzwozlg-algo-1-sjd53 |\u001b[0m SM_MODULE_DIR=s3://sagemaker-ap-northeast-2-057716757052/cifar10-2021-02-27-02-28-33-646/source/sourcedir.tar.gz\n",
      "\u001b[36mbbkpzwozlg-algo-1-sjd53 |\u001b[0m SM_TRAINING_ENV={\"additional_framework_parameters\":{},\"channel_input_dirs\":{\"eval\":\"/opt/ml/input/data/eval\",\"train\":\"/opt/ml/input/data/train\",\"validation\":\"/opt/ml/input/data/validation\"},\"current_host\":\"algo-1-sjd53\",\"framework_module\":\"sagemaker_tensorflow_container.training:main\",\"hosts\":[\"algo-1-sjd53\"],\"hyperparameters\":{\"epochs\":1,\"model_dir\":\"s3://sagemaker-ap-northeast-2-057716757052/cifar10-2021-02-27-02-28-33-646/model\"},\"input_config_dir\":\"/opt/ml/input/config\",\"input_data_config\":{\"eval\":{\"TrainingInputMode\":\"File\"},\"train\":{\"TrainingInputMode\":\"File\"},\"validation\":{\"TrainingInputMode\":\"File\"}},\"input_dir\":\"/opt/ml/input\",\"is_master\":true,\"job_name\":\"cifar10-2021-02-27-02-28-33-646\",\"log_level\":20,\"master_hostname\":\"algo-1-sjd53\",\"model_dir\":\"/opt/ml/model\",\"module_dir\":\"s3://sagemaker-ap-northeast-2-057716757052/cifar10-2021-02-27-02-28-33-646/source/sourcedir.tar.gz\",\"module_name\":\"cifar10_keras_sm_tf2\",\"network_interface_name\":\"eth0\",\"num_cpus\":36,\"num_gpus\":0,\"output_data_dir\":\"/opt/ml/output/data\",\"output_dir\":\"/opt/ml/output\",\"output_intermediate_dir\":\"/opt/ml/output/intermediate\",\"resource_config\":{\"current_host\":\"algo-1-sjd53\",\"hosts\":[\"algo-1-sjd53\"]},\"user_entry_point\":\"cifar10_keras_sm_tf2.py\"}\n",
      "\u001b[36mbbkpzwozlg-algo-1-sjd53 |\u001b[0m SM_USER_ARGS=[\"--epochs\",\"1\",\"--model_dir\",\"s3://sagemaker-ap-northeast-2-057716757052/cifar10-2021-02-27-02-28-33-646/model\"]\n",
      "\u001b[36mbbkpzwozlg-algo-1-sjd53 |\u001b[0m SM_OUTPUT_INTERMEDIATE_DIR=/opt/ml/output/intermediate\n",
      "\u001b[36mbbkpzwozlg-algo-1-sjd53 |\u001b[0m SM_CHANNEL_TRAIN=/opt/ml/input/data/train\n",
      "\u001b[36mbbkpzwozlg-algo-1-sjd53 |\u001b[0m SM_CHANNEL_VALIDATION=/opt/ml/input/data/validation\n",
      "\u001b[36mbbkpzwozlg-algo-1-sjd53 |\u001b[0m SM_CHANNEL_EVAL=/opt/ml/input/data/eval\n",
      "\u001b[36mbbkpzwozlg-algo-1-sjd53 |\u001b[0m SM_HP_EPOCHS=1\n",
      "\u001b[36mbbkpzwozlg-algo-1-sjd53 |\u001b[0m SM_HP_MODEL_DIR=s3://sagemaker-ap-northeast-2-057716757052/cifar10-2021-02-27-02-28-33-646/model\n",
      "\u001b[36mbbkpzwozlg-algo-1-sjd53 |\u001b[0m PYTHONPATH=/opt/ml/code:/usr/local/bin:/usr/lib/python36.zip:/usr/lib/python3.6:/usr/lib/python3.6/lib-dynload:/usr/local/lib/python3.6/dist-packages:/usr/lib/python3/dist-packages\n",
      "\u001b[36mbbkpzwozlg-algo-1-sjd53 |\u001b[0m \n",
      "\u001b[36mbbkpzwozlg-algo-1-sjd53 |\u001b[0m Invoking script with the following command:\n",
      "\u001b[36mbbkpzwozlg-algo-1-sjd53 |\u001b[0m \n",
      "\u001b[36mbbkpzwozlg-algo-1-sjd53 |\u001b[0m /usr/bin/python3 cifar10_keras_sm_tf2.py --epochs 1 --model_dir s3://sagemaker-ap-northeast-2-057716757052/cifar10-2021-02-27-02-28-33-646/model\n",
      "\u001b[36mbbkpzwozlg-algo-1-sjd53 |\u001b[0m \n",
      "\u001b[36mbbkpzwozlg-algo-1-sjd53 |\u001b[0m \n",
      "\u001b[36mbbkpzwozlg-algo-1-sjd53 |\u001b[0m args.model_dir:  s3://sagemaker-ap-northeast-2-057716757052/cifar10-2021-02-27-02-28-33-646/model\n",
      "\u001b[36mbbkpzwozlg-algo-1-sjd53 |\u001b[0m args.model_output_dir:  /opt/ml/model\n",
      "\u001b[36mbbkpzwozlg-algo-1-sjd53 |\u001b[0m Train for 312 steps, validate for 78 steps\n",
      "312/312 [==============================] - 23s 73ms/step - loss: 1.8457 - accuracy: 0.3252 - val_loss: 1.8489 - val_accuracy: 0.3129\n",
      "\u001b[36mbbkpzwozlg-algo-1-sjd53 |\u001b[0m 2021-02-27 02:29:05.429808: W tensorflow/python/util/util.cc:299] Sets are not currently considered sequences, but this may change in the future, so consider avoiding using them.\n",
      "\u001b[36mbbkpzwozlg-algo-1-sjd53 |\u001b[0m WARNING:tensorflow:From /usr/local/lib/python3.6/dist-packages/tensorflow_core/python/ops/resource_variable_ops.py:1781: calling BaseResourceVariable.__init__ (from tensorflow.python.ops.resource_variable_ops) with constraint is deprecated and will be removed in a future version.\n",
      "\u001b[36mbbkpzwozlg-algo-1-sjd53 |\u001b[0m Instructions for updating:\n",
      "\u001b[36mbbkpzwozlg-algo-1-sjd53 |\u001b[0m If using Keras pass *_constraint arguments to layers.\n",
      "\u001b[36mbbkpzwozlg-algo-1-sjd53 |\u001b[0m WARNING:tensorflow:From /usr/local/lib/python3.6/dist-packages/tensorflow_core/python/ops/resource_variable_ops.py:1781: calling BaseResourceVariable.__init__ (from tensorflow.python.ops.resource_variable_ops) with constraint is deprecated and will be removed in a future version.\n",
      "\u001b[36mbbkpzwozlg-algo-1-sjd53 |\u001b[0m Instructions for updating:\n",
      "\u001b[36mbbkpzwozlg-algo-1-sjd53 |\u001b[0m If using Keras pass *_constraint arguments to layers.\n",
      "\u001b[36mbbkpzwozlg-algo-1-sjd53 |\u001b[0m INFO:tensorflow:Assets written to: /opt/ml/model/1/assets\n",
      "\u001b[36mbbkpzwozlg-algo-1-sjd53 |\u001b[0m INFO:tensorflow:Assets written to: /opt/ml/model/1/assets\n",
      "\u001b[36mbbkpzwozlg-algo-1-sjd53 |\u001b[0m 2021-02-27 02:29:07,241 sagemaker-containers INFO     Reporting training SUCCESS\n",
      "\u001b[36mbbkpzwozlg-algo-1-sjd53 exited with code 0\n",
      "\u001b[0mAborting on container exit...\n",
      "===== Job Complete =====\n"
     ]
    }
   ],
   "source": [
    "from sagemaker.tensorflow import TensorFlow\n",
    "estimator = TensorFlow(base_job_name='cifar10',\n",
    "                       entry_point='cifar10_keras_sm_tf2.py',\n",
    "                       source_dir='training_script',\n",
    "                       role=role,\n",
    "                       framework_version='2.0.0',\n",
    "                       py_version='py3',\n",
    "                       script_mode=True,\n",
    "                       hyperparameters={'epochs' : 1},\n",
    "                       train_instance_count=1, \n",
    "                       train_instance_type='local')\n",
    "estimator.fit({'train': 'file://data/train',\n",
    "               'validation': 'file://data/validation',\n",
    "               'eval': 'file://data/eval'})"
   ]
  },
  {
   "cell_type": "code",
   "execution_count": null,
   "id": "lesbian-tumor",
   "metadata": {},
   "outputs": [],
   "source": []
  },
  {
   "cell_type": "markdown",
   "id": "desirable-sixth",
   "metadata": {},
   "source": [
    "## output bucket 테스트"
   ]
  },
  {
   "cell_type": "code",
   "execution_count": 7,
   "id": "greek-router",
   "metadata": {},
   "outputs": [
    {
     "name": "stdout",
     "output_type": "stream",
     "text": [
      "s3://gonsoo-share/cifar10-output\n"
     ]
    }
   ],
   "source": [
    "output_bucket = 'gonsoo-share'\n",
    "output_prefix = 'cifar10-output'\n",
    "s3_output_path = f's3://{output_bucket}/{output_prefix}'\n",
    "print(s3_output_path)"
   ]
  },
  {
   "cell_type": "code",
   "execution_count": 8,
   "id": "competent-lightweight",
   "metadata": {
    "collapsed": true,
    "jupyter": {
     "outputs_hidden": true
    }
   },
   "outputs": [
    {
     "name": "stderr",
     "output_type": "stream",
     "text": [
      "train_instance_type has been renamed in sagemaker>=2.\n",
      "See: https://sagemaker.readthedocs.io/en/stable/v2.html for details.\n",
      "train_instance_count has been renamed in sagemaker>=2.\n",
      "See: https://sagemaker.readthedocs.io/en/stable/v2.html for details.\n",
      "train_instance_type has been renamed in sagemaker>=2.\n",
      "See: https://sagemaker.readthedocs.io/en/stable/v2.html for details.\n"
     ]
    },
    {
     "name": "stdout",
     "output_type": "stream",
     "text": [
      "Building with native build. Learn about native build in Compose here: https://docs.docker.com/go/compose-native-build/\n",
      "Creating 964xo1y87g-algo-1-bi92h ... \n",
      "Creating 964xo1y87g-algo-1-bi92h ... done\n",
      "Attaching to 964xo1y87g-algo-1-bi92h\n",
      "\u001b[36m964xo1y87g-algo-1-bi92h |\u001b[0m 2021-02-27 02:32:08,835 sagemaker-containers INFO     Imported framework sagemaker_tensorflow_container.training\n",
      "\u001b[36m964xo1y87g-algo-1-bi92h |\u001b[0m 2021-02-27 02:32:08,841 sagemaker-containers INFO     No GPUs detected (normal if no gpus installed)\n",
      "\u001b[36m964xo1y87g-algo-1-bi92h |\u001b[0m 2021-02-27 02:32:08,990 sagemaker-containers INFO     No GPUs detected (normal if no gpus installed)\n",
      "\u001b[36m964xo1y87g-algo-1-bi92h |\u001b[0m 2021-02-27 02:32:09,003 sagemaker-containers INFO     No GPUs detected (normal if no gpus installed)\n",
      "\u001b[36m964xo1y87g-algo-1-bi92h |\u001b[0m 2021-02-27 02:32:09,016 sagemaker-containers INFO     No GPUs detected (normal if no gpus installed)\n",
      "\u001b[36m964xo1y87g-algo-1-bi92h |\u001b[0m 2021-02-27 02:32:09,024 sagemaker-containers INFO     Invoking user script\n",
      "\u001b[36m964xo1y87g-algo-1-bi92h |\u001b[0m \n",
      "\u001b[36m964xo1y87g-algo-1-bi92h |\u001b[0m Training Env:\n",
      "\u001b[36m964xo1y87g-algo-1-bi92h |\u001b[0m \n",
      "\u001b[36m964xo1y87g-algo-1-bi92h |\u001b[0m {\n",
      "\u001b[36m964xo1y87g-algo-1-bi92h |\u001b[0m     \"additional_framework_parameters\": {},\n",
      "\u001b[36m964xo1y87g-algo-1-bi92h |\u001b[0m     \"channel_input_dirs\": {\n",
      "\u001b[36m964xo1y87g-algo-1-bi92h |\u001b[0m         \"train\": \"/opt/ml/input/data/train\",\n",
      "\u001b[36m964xo1y87g-algo-1-bi92h |\u001b[0m         \"validation\": \"/opt/ml/input/data/validation\",\n",
      "\u001b[36m964xo1y87g-algo-1-bi92h |\u001b[0m         \"eval\": \"/opt/ml/input/data/eval\"\n",
      "\u001b[36m964xo1y87g-algo-1-bi92h |\u001b[0m     },\n",
      "\u001b[36m964xo1y87g-algo-1-bi92h |\u001b[0m     \"current_host\": \"algo-1-bi92h\",\n",
      "\u001b[36m964xo1y87g-algo-1-bi92h |\u001b[0m     \"framework_module\": \"sagemaker_tensorflow_container.training:main\",\n",
      "\u001b[36m964xo1y87g-algo-1-bi92h |\u001b[0m     \"hosts\": [\n",
      "\u001b[36m964xo1y87g-algo-1-bi92h |\u001b[0m         \"algo-1-bi92h\"\n",
      "\u001b[36m964xo1y87g-algo-1-bi92h |\u001b[0m     ],\n",
      "\u001b[36m964xo1y87g-algo-1-bi92h |\u001b[0m     \"hyperparameters\": {\n",
      "\u001b[36m964xo1y87g-algo-1-bi92h |\u001b[0m         \"epochs\": 2,\n",
      "\u001b[36m964xo1y87g-algo-1-bi92h |\u001b[0m         \"model_dir\": \"s3://gonsoo-share/cifar10-output/cifar10-2021-02-27-02-32-05-772/model\"\n",
      "\u001b[36m964xo1y87g-algo-1-bi92h |\u001b[0m     },\n",
      "\u001b[36m964xo1y87g-algo-1-bi92h |\u001b[0m     \"input_config_dir\": \"/opt/ml/input/config\",\n",
      "\u001b[36m964xo1y87g-algo-1-bi92h |\u001b[0m     \"input_data_config\": {\n",
      "\u001b[36m964xo1y87g-algo-1-bi92h |\u001b[0m         \"train\": {\n",
      "\u001b[36m964xo1y87g-algo-1-bi92h |\u001b[0m             \"TrainingInputMode\": \"File\"\n",
      "\u001b[36m964xo1y87g-algo-1-bi92h |\u001b[0m         },\n",
      "\u001b[36m964xo1y87g-algo-1-bi92h |\u001b[0m         \"validation\": {\n",
      "\u001b[36m964xo1y87g-algo-1-bi92h |\u001b[0m             \"TrainingInputMode\": \"File\"\n",
      "\u001b[36m964xo1y87g-algo-1-bi92h |\u001b[0m         },\n",
      "\u001b[36m964xo1y87g-algo-1-bi92h |\u001b[0m         \"eval\": {\n",
      "\u001b[36m964xo1y87g-algo-1-bi92h |\u001b[0m             \"TrainingInputMode\": \"File\"\n",
      "\u001b[36m964xo1y87g-algo-1-bi92h |\u001b[0m         }\n",
      "\u001b[36m964xo1y87g-algo-1-bi92h |\u001b[0m     },\n",
      "\u001b[36m964xo1y87g-algo-1-bi92h |\u001b[0m     \"input_dir\": \"/opt/ml/input\",\n",
      "\u001b[36m964xo1y87g-algo-1-bi92h |\u001b[0m     \"is_master\": true,\n",
      "\u001b[36m964xo1y87g-algo-1-bi92h |\u001b[0m     \"job_name\": \"cifar10-2021-02-27-02-32-05-772\",\n",
      "\u001b[36m964xo1y87g-algo-1-bi92h |\u001b[0m     \"log_level\": 20,\n",
      "\u001b[36m964xo1y87g-algo-1-bi92h |\u001b[0m     \"master_hostname\": \"algo-1-bi92h\",\n",
      "\u001b[36m964xo1y87g-algo-1-bi92h |\u001b[0m     \"model_dir\": \"/opt/ml/model\",\n",
      "\u001b[36m964xo1y87g-algo-1-bi92h |\u001b[0m     \"module_dir\": \"s3://gonsoo-share/cifar10-2021-02-27-02-32-05-772/source/sourcedir.tar.gz\",\n",
      "\u001b[36m964xo1y87g-algo-1-bi92h |\u001b[0m     \"module_name\": \"cifar10_keras_sm_tf2\",\n",
      "\u001b[36m964xo1y87g-algo-1-bi92h |\u001b[0m     \"network_interface_name\": \"eth0\",\n",
      "\u001b[36m964xo1y87g-algo-1-bi92h |\u001b[0m     \"num_cpus\": 36,\n",
      "\u001b[36m964xo1y87g-algo-1-bi92h |\u001b[0m     \"num_gpus\": 0,\n",
      "\u001b[36m964xo1y87g-algo-1-bi92h |\u001b[0m     \"output_data_dir\": \"/opt/ml/output/data\",\n",
      "\u001b[36m964xo1y87g-algo-1-bi92h |\u001b[0m     \"output_dir\": \"/opt/ml/output\",\n",
      "\u001b[36m964xo1y87g-algo-1-bi92h |\u001b[0m     \"output_intermediate_dir\": \"/opt/ml/output/intermediate\",\n",
      "\u001b[36m964xo1y87g-algo-1-bi92h |\u001b[0m     \"resource_config\": {\n",
      "\u001b[36m964xo1y87g-algo-1-bi92h |\u001b[0m         \"current_host\": \"algo-1-bi92h\",\n",
      "\u001b[36m964xo1y87g-algo-1-bi92h |\u001b[0m         \"hosts\": [\n",
      "\u001b[36m964xo1y87g-algo-1-bi92h |\u001b[0m             \"algo-1-bi92h\"\n",
      "\u001b[36m964xo1y87g-algo-1-bi92h |\u001b[0m         ]\n",
      "\u001b[36m964xo1y87g-algo-1-bi92h |\u001b[0m     },\n",
      "\u001b[36m964xo1y87g-algo-1-bi92h |\u001b[0m     \"user_entry_point\": \"cifar10_keras_sm_tf2.py\"\n",
      "\u001b[36m964xo1y87g-algo-1-bi92h |\u001b[0m }\n",
      "\u001b[36m964xo1y87g-algo-1-bi92h |\u001b[0m \n",
      "\u001b[36m964xo1y87g-algo-1-bi92h |\u001b[0m Environment variables:\n",
      "\u001b[36m964xo1y87g-algo-1-bi92h |\u001b[0m \n",
      "\u001b[36m964xo1y87g-algo-1-bi92h |\u001b[0m SM_HOSTS=[\"algo-1-bi92h\"]\n",
      "\u001b[36m964xo1y87g-algo-1-bi92h |\u001b[0m SM_NETWORK_INTERFACE_NAME=eth0\n",
      "\u001b[36m964xo1y87g-algo-1-bi92h |\u001b[0m SM_HPS={\"epochs\":2,\"model_dir\":\"s3://gonsoo-share/cifar10-output/cifar10-2021-02-27-02-32-05-772/model\"}\n",
      "\u001b[36m964xo1y87g-algo-1-bi92h |\u001b[0m SM_USER_ENTRY_POINT=cifar10_keras_sm_tf2.py\n",
      "\u001b[36m964xo1y87g-algo-1-bi92h |\u001b[0m SM_FRAMEWORK_PARAMS={}\n",
      "\u001b[36m964xo1y87g-algo-1-bi92h |\u001b[0m SM_RESOURCE_CONFIG={\"current_host\":\"algo-1-bi92h\",\"hosts\":[\"algo-1-bi92h\"]}\n",
      "\u001b[36m964xo1y87g-algo-1-bi92h |\u001b[0m SM_INPUT_DATA_CONFIG={\"eval\":{\"TrainingInputMode\":\"File\"},\"train\":{\"TrainingInputMode\":\"File\"},\"validation\":{\"TrainingInputMode\":\"File\"}}\n",
      "\u001b[36m964xo1y87g-algo-1-bi92h |\u001b[0m SM_OUTPUT_DATA_DIR=/opt/ml/output/data\n",
      "\u001b[36m964xo1y87g-algo-1-bi92h |\u001b[0m SM_CHANNELS=[\"eval\",\"train\",\"validation\"]\n",
      "\u001b[36m964xo1y87g-algo-1-bi92h |\u001b[0m SM_CURRENT_HOST=algo-1-bi92h\n",
      "\u001b[36m964xo1y87g-algo-1-bi92h |\u001b[0m SM_MODULE_NAME=cifar10_keras_sm_tf2\n",
      "\u001b[36m964xo1y87g-algo-1-bi92h |\u001b[0m SM_LOG_LEVEL=20\n",
      "\u001b[36m964xo1y87g-algo-1-bi92h |\u001b[0m SM_FRAMEWORK_MODULE=sagemaker_tensorflow_container.training:main\n",
      "\u001b[36m964xo1y87g-algo-1-bi92h |\u001b[0m SM_INPUT_DIR=/opt/ml/input\n",
      "\u001b[36m964xo1y87g-algo-1-bi92h |\u001b[0m SM_INPUT_CONFIG_DIR=/opt/ml/input/config\n",
      "\u001b[36m964xo1y87g-algo-1-bi92h |\u001b[0m SM_OUTPUT_DIR=/opt/ml/output\n",
      "\u001b[36m964xo1y87g-algo-1-bi92h |\u001b[0m SM_NUM_CPUS=36\n",
      "\u001b[36m964xo1y87g-algo-1-bi92h |\u001b[0m SM_NUM_GPUS=0\n",
      "\u001b[36m964xo1y87g-algo-1-bi92h |\u001b[0m SM_MODEL_DIR=/opt/ml/model\n",
      "\u001b[36m964xo1y87g-algo-1-bi92h |\u001b[0m SM_MODULE_DIR=s3://gonsoo-share/cifar10-2021-02-27-02-32-05-772/source/sourcedir.tar.gz\n",
      "\u001b[36m964xo1y87g-algo-1-bi92h |\u001b[0m SM_TRAINING_ENV={\"additional_framework_parameters\":{},\"channel_input_dirs\":{\"eval\":\"/opt/ml/input/data/eval\",\"train\":\"/opt/ml/input/data/train\",\"validation\":\"/opt/ml/input/data/validation\"},\"current_host\":\"algo-1-bi92h\",\"framework_module\":\"sagemaker_tensorflow_container.training:main\",\"hosts\":[\"algo-1-bi92h\"],\"hyperparameters\":{\"epochs\":2,\"model_dir\":\"s3://gonsoo-share/cifar10-output/cifar10-2021-02-27-02-32-05-772/model\"},\"input_config_dir\":\"/opt/ml/input/config\",\"input_data_config\":{\"eval\":{\"TrainingInputMode\":\"File\"},\"train\":{\"TrainingInputMode\":\"File\"},\"validation\":{\"TrainingInputMode\":\"File\"}},\"input_dir\":\"/opt/ml/input\",\"is_master\":true,\"job_name\":\"cifar10-2021-02-27-02-32-05-772\",\"log_level\":20,\"master_hostname\":\"algo-1-bi92h\",\"model_dir\":\"/opt/ml/model\",\"module_dir\":\"s3://gonsoo-share/cifar10-2021-02-27-02-32-05-772/source/sourcedir.tar.gz\",\"module_name\":\"cifar10_keras_sm_tf2\",\"network_interface_name\":\"eth0\",\"num_cpus\":36,\"num_gpus\":0,\"output_data_dir\":\"/opt/ml/output/data\",\"output_dir\":\"/opt/ml/output\",\"output_intermediate_dir\":\"/opt/ml/output/intermediate\",\"resource_config\":{\"current_host\":\"algo-1-bi92h\",\"hosts\":[\"algo-1-bi92h\"]},\"user_entry_point\":\"cifar10_keras_sm_tf2.py\"}\n",
      "\u001b[36m964xo1y87g-algo-1-bi92h |\u001b[0m SM_USER_ARGS=[\"--epochs\",\"2\",\"--model_dir\",\"s3://gonsoo-share/cifar10-output/cifar10-2021-02-27-02-32-05-772/model\"]\n",
      "\u001b[36m964xo1y87g-algo-1-bi92h |\u001b[0m SM_OUTPUT_INTERMEDIATE_DIR=/opt/ml/output/intermediate\n",
      "\u001b[36m964xo1y87g-algo-1-bi92h |\u001b[0m SM_CHANNEL_TRAIN=/opt/ml/input/data/train\n",
      "\u001b[36m964xo1y87g-algo-1-bi92h |\u001b[0m SM_CHANNEL_VALIDATION=/opt/ml/input/data/validation\n",
      "\u001b[36m964xo1y87g-algo-1-bi92h |\u001b[0m SM_CHANNEL_EVAL=/opt/ml/input/data/eval\n",
      "\u001b[36m964xo1y87g-algo-1-bi92h |\u001b[0m SM_HP_EPOCHS=2\n",
      "\u001b[36m964xo1y87g-algo-1-bi92h |\u001b[0m SM_HP_MODEL_DIR=s3://gonsoo-share/cifar10-output/cifar10-2021-02-27-02-32-05-772/model\n",
      "\u001b[36m964xo1y87g-algo-1-bi92h |\u001b[0m PYTHONPATH=/opt/ml/code:/usr/local/bin:/usr/lib/python36.zip:/usr/lib/python3.6:/usr/lib/python3.6/lib-dynload:/usr/local/lib/python3.6/dist-packages:/usr/lib/python3/dist-packages\n",
      "\u001b[36m964xo1y87g-algo-1-bi92h |\u001b[0m \n",
      "\u001b[36m964xo1y87g-algo-1-bi92h |\u001b[0m Invoking script with the following command:\n",
      "\u001b[36m964xo1y87g-algo-1-bi92h |\u001b[0m \n",
      "\u001b[36m964xo1y87g-algo-1-bi92h |\u001b[0m /usr/bin/python3 cifar10_keras_sm_tf2.py --epochs 2 --model_dir s3://gonsoo-share/cifar10-output/cifar10-2021-02-27-02-32-05-772/model\n",
      "\u001b[36m964xo1y87g-algo-1-bi92h |\u001b[0m \n",
      "\u001b[36m964xo1y87g-algo-1-bi92h |\u001b[0m \n",
      "\u001b[36m964xo1y87g-algo-1-bi92h |\u001b[0m args.model_dir:  s3://gonsoo-share/cifar10-output/cifar10-2021-02-27-02-32-05-772/model\n",
      "\u001b[36m964xo1y87g-algo-1-bi92h |\u001b[0m args.model_output_dir:  /opt/ml/model\n",
      "\u001b[36m964xo1y87g-algo-1-bi92h |\u001b[0m Train for 312 steps, validate for 78 steps\n",
      "\u001b[36m964xo1y87g-algo-1-bi92h |\u001b[0m Epoch 1/2\n",
      "312/312 [==============================] - 36s 116ms/step - loss: 1.8579 - accuracy: 0.3152 - val_loss: 2.0133 - val_accuracy: 0.3054\n",
      "\u001b[36m964xo1y87g-algo-1-bi92h |\u001b[0m Epoch 2/2\n",
      "312/312 [==============================] - 24s 78ms/step - loss: 1.4750 - accuracy: 0.4527 - val_loss: 1.4335 - val_accuracy: 0.4545\n",
      "\u001b[36m964xo1y87g-algo-1-bi92h |\u001b[0m 2021-02-27 02:33:14.891037: W tensorflow/python/util/util.cc:299] Sets are not currently considered sequences, but this may change in the future, so consider avoiding using them.\n",
      "\u001b[36m964xo1y87g-algo-1-bi92h |\u001b[0m WARNING:tensorflow:From /usr/local/lib/python3.6/dist-packages/tensorflow_core/python/ops/resource_variable_ops.py:1781: calling BaseResourceVariable.__init__ (from tensorflow.python.ops.resource_variable_ops) with constraint is deprecated and will be removed in a future version.\n",
      "\u001b[36m964xo1y87g-algo-1-bi92h |\u001b[0m Instructions for updating:\n",
      "\u001b[36m964xo1y87g-algo-1-bi92h |\u001b[0m If using Keras pass *_constraint arguments to layers.\n",
      "\u001b[36m964xo1y87g-algo-1-bi92h |\u001b[0m WARNING:tensorflow:From /usr/local/lib/python3.6/dist-packages/tensorflow_core/python/ops/resource_variable_ops.py:1781: calling BaseResourceVariable.__init__ (from tensorflow.python.ops.resource_variable_ops) with constraint is deprecated and will be removed in a future version.\n",
      "\u001b[36m964xo1y87g-algo-1-bi92h |\u001b[0m Instructions for updating:\n",
      "\u001b[36m964xo1y87g-algo-1-bi92h |\u001b[0m If using Keras pass *_constraint arguments to layers.\n",
      "\u001b[36m964xo1y87g-algo-1-bi92h |\u001b[0m INFO:tensorflow:Assets written to: /opt/ml/model/1/assets\n",
      "\u001b[36m964xo1y87g-algo-1-bi92h |\u001b[0m INFO:tensorflow:Assets written to: /opt/ml/model/1/assets\n",
      "\u001b[36m964xo1y87g-algo-1-bi92h |\u001b[0m 2021-02-27 02:33:16,715 sagemaker-containers INFO     Reporting training SUCCESS\n",
      "\u001b[36m964xo1y87g-algo-1-bi92h exited with code 0\n",
      "\u001b[0mAborting on container exit...\n",
      "===== Job Complete =====\n"
     ]
    }
   ],
   "source": [
    "from sagemaker.tensorflow import TensorFlow\n",
    "estimator = TensorFlow(base_job_name='cifar10',\n",
    "                       entry_point='cifar10_keras_sm_tf2.py',\n",
    "                       source_dir='training_script',\n",
    "                       output_path = s3_output_path,                       \n",
    "                       role=role,\n",
    "                       framework_version='2.0.0',\n",
    "                       py_version='py3',\n",
    "                       script_mode=True,\n",
    "                       hyperparameters={'epochs' : 2},\n",
    "                       train_instance_count=1, \n",
    "                       train_instance_type='local')\n",
    "\n",
    "\n",
    "estimator.fit({'train': 'file://data/train',\n",
    "               'validation': 'file://data/validation',\n",
    "               'eval': 'file://data/eval'})"
   ]
  },
  {
   "cell_type": "code",
   "execution_count": null,
   "id": "infectious-rendering",
   "metadata": {},
   "outputs": [],
   "source": []
  }
 ],
 "metadata": {
  "kernelspec": {
   "display_name": "conda_tensorflow2_p36",
   "language": "python",
   "name": "conda_tensorflow2_p36"
  },
  "language_info": {
   "codemirror_mode": {
    "name": "ipython",
    "version": 3
   },
   "file_extension": ".py",
   "mimetype": "text/x-python",
   "name": "python",
   "nbconvert_exporter": "python",
   "pygments_lexer": "ipython3",
   "version": "3.6.10"
  }
 },
 "nbformat": 4,
 "nbformat_minor": 5
}
